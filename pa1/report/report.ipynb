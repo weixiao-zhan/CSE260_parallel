{
 "cells": [
  {
   "cell_type": "code",
   "execution_count": null,
   "metadata": {},
   "outputs": [],
   "source": [
    "import matplotlib.pyplot as plt\n",
    "\n",
    "# Data\n",
    "N = [32, 64, 128, 256, 511, 512, 513, 1023, 1024, 1025, 2047, 2048]\n",
    "blas = [17.9, 20.1, 23.2, 17.6, 21.4, 21.1, 21.4, 21.7, 19.6, 21.5, 21.9, 22]\n",
    "pack_naiveUkr = [2.39, 2.49, 2.52, 2.55, 2.21, 2.57, 2.56, 2.39, 2.38, 2.29, 2.25, 2.51]\n",
    "pack_broadcastUkr = [9.66, 10.7, 10.6, 7.74, 9.52, 9.42, 6.72, 9.31, 9.41, 8.98, 8.29, 7.99]\n",
    "pack_pad_broadcastUkr = [5.71, 9.3, 9.77, 9.79, 9.49, 9.39, 7.97, 9.33, 9.31, 9.19, 8.2, 8.24]\n",
    "pack_pad_butterflyUkr_4k4 = [6.22, 10.6, 12.3, 13.3, 9.33, 13.7, 12.5, 13.5, 13.6, 13.3, 12.6, 12.9]\n",
    "pack_pad_broadcastUkr_unroll_4k4 = [7.27, 14.25, 16.3, 17.7, 18.7, 18.5, 18.4, 18.4, 18.6, 17.6, 18.4, 18.4]\n",
    "pack_pad_broadcastUkr_unroll_8k4 = [8.18, 16, 18.5, 19.9, 19.1, 19.1, 20.5, 20.5, 21.1, 19.6, 21, 21.2]\n",
    "pack_pad_broadcastUkr_unroll_8k8 = [8.79,18.5,21.7,23.3,21.6,21.9,23.3,23.6,24.2,22.6,24.3,24.7]\n",
    "\n",
    "# Creating the plot\n",
    "plt.figure(figsize=(10, 6))\n",
    "\n",
    "plt.plot(N, blas, marker='^', linestyle='--', label=\"blas\")\n",
    "plt.plot(N, pack_naiveUkr, marker='*', linestyle='-', label=\"blislab: pack_naiveUkr\")\n",
    "plt.plot(N, pack_broadcastUkr, marker='o', linestyle='-', label=\"blislab: pack_broadcastUkr\")\n",
    "plt.plot(N, pack_pad_broadcastUkr, marker='o', linestyle='-', label=\"blislab: pack_pad_broadcastUkr\")\n",
    "plt.plot(N, pack_pad_butterflyUkr_4k4, marker='o', linestyle='-', label=\"blislab: pack_pad_butterflyUkr_4k4\")\n",
    "plt.plot(N, pack_pad_broadcastUkr_unroll_8k4, marker='o', linestyle='-', label=\"blislab: pack_pad_broadcastUkr_unroll_8k4\")\n",
    "plt.plot(N, pack_pad_broadcastUkr_unroll_8k8, marker='o', linestyle='-', label=\"blislab: pack_pad_broadcastUkr_unroll_8k8\")\n",
    "\n",
    "plt.xlabel('N (Matrix Size)')\n",
    "plt.ylabel('GFLOPS')\n",
    "plt.legend(loc='upper center', bbox_to_anchor=(0.5, -0.15), ncol=2, frameon=True, borderpad=1)\n",
    "plt.grid(True)\n",
    "\n",
    "plt.savefig(\"img/GFLOPS.png\",bbox_inches='tight')\n",
    "plt.show()"
   ]
  }
 ],
 "metadata": {
  "kernelspec": {
   "display_name": "base",
   "language": "python",
   "name": "python3"
  },
  "language_info": {
   "codemirror_mode": {
    "name": "ipython",
    "version": 3
   },
   "file_extension": ".py",
   "mimetype": "text/x-python",
   "name": "python",
   "nbconvert_exporter": "python",
   "pygments_lexer": "ipython3",
   "version": "3.12.2"
  }
 },
 "nbformat": 4,
 "nbformat_minor": 2
}
